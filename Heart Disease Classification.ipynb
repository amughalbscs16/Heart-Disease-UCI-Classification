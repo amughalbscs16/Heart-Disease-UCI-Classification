{
 "cells": [
  {
   "cell_type": "code",
   "execution_count": 9,
   "metadata": {},
   "outputs": [],
   "source": [
    "import tensorflow as tf\n",
    "import numpy as np"
   ]
  },
  {
   "cell_type": "code",
   "execution_count": null,
   "metadata": {},
   "outputs": [],
   "source": [
    "\n",
    "csv = np.genfromtxt('heart.csv', delimiter=\",\")\n",
    "#Removing Header\n",
    "array = csv[1:,:].reshape(303,14,1)\n",
    "noTrain=int(0.8*len(array));\n",
    "print(array.shape)\n",
    "#Randomly Picking training and testing examples\n",
    "train,test,__ = np.vsplit(array[np.random.permutation(array.shape[0])],(noTrain,len(array)))\n",
    "xtrain,ytrain = train[:,0:13,:],train[:,13,:]\n",
    "xtest,ytest = test[:,0:13,:],test[:,13,:]\n",
    "print(ytest)\n"
   ]
  },
  {
   "cell_type": "code",
   "execution_count": null,
   "metadata": {},
   "outputs": [],
   "source": [
    "#Training the Model\n",
    "model = tf.keras.models.Sequential([\n",
    "  tf.keras.layers.Flatten(input_shape=(13,1)),\n",
    "  tf.keras.layers.Dense(2048, activation='tanh'),\n",
    "  tf.keras.layers.Dense(2048, activation='tanh'),\n",
    "  tf.keras.layers.Dense(2, activation=tf.nn.softmax),\n",
    " ])\n",
    "model.compile(optimizer='adam',\n",
    "              loss='sparse_categorical_crossentropy',\n",
    "              metrics=['accuracy'])\n",
    "\n",
    "model.fit(xtrain, ytrain, epochs=1000)\n",
    "\n"
   ]
  },
  {
   "cell_type": "code",
   "execution_count": 2,
   "metadata": {},
   "outputs": [],
   "source": [
    "#model.save('model.h5')\n",
    "model = tf.keras.models.load_model('model.h5')\n",
    "#model.evaluate(xtest, ytest)\n",
    "#model.summary()\n"
   ]
  },
  {
   "cell_type": "code",
   "execution_count": 3,
   "metadata": {},
   "outputs": [
    {
     "name": "stdout",
     "output_type": "stream",
     "text": [
      "Enter age: 63\n",
      "Enter Sex (M=1,F=0): 1\n",
      "Enter chest pain type (0-3): 3\n",
      "Enter cholestrol level mg/dl: 145\n",
      "Enter resting beats per minute: 233\n",
      "Enter fasting blood sugar mg/dl > 120? (1 = true, 0 = false): 1\n",
      "Enter resting electrocardiographic results: 0\n",
      "Enter maximum heart rate achieved: 150\n",
      "Enter exercise induced angina (1=yes, 0=no): 0\n",
      "ST depression induced by exercise relative to rest: 2.3\n",
      "Enter slope of the peak exercise ST segment: 0\n",
      "Number of major vessels (0-3) colored flourosopy: 0\n",
      "3=normal, 6=fixed defect, 7=reversable defect: 1\n"
     ]
    }
   ],
   "source": [
    "predictdata = np.array([0]*13)\n",
    "age = input(\"Enter age: \")\n",
    "sex = input(\"Enter Sex (M=1,F=0): \")\n",
    "chestpain = input(\"Enter chest pain type (0-3): \")\n",
    "chol = input(\"Enter cholestrol level mg/dl: \")\n",
    "restbps = input(\"Enter resting beats per minute: \")\n",
    "fbs = input(\"Enter fasting blood sugar mg/dl > 120? (1 = true, 0 = false): \")\n",
    "restecg = input(\"Enter resting electrocardiographic results: \")\n",
    "thalach = input(\"Enter maximum heart rate achieved: \")\n",
    "exang = input(\"Enter exercise induced angina (1=yes, 0=no): \")\n",
    "oldpeak = input(\"ST depression induced by exercise relative to rest: \")\n",
    "slope = input(\"Enter slope of the peak exercise ST segment: \")\n",
    "ca = input(\"Number of major vessels (0-3) colored flourosopy: \")\n",
    "thal = input(\"3=normal, 6=fixed defect, 7=reversable defect: \")\n",
    "predictdata = np.array([age,sex,chestpain,chol,restbps,\n",
    "                       fbs,restecg,thalach,exang,oldpeak,\n",
    "                       slope,ca,thal])\n",
    "predictdata = predictdata.reshape(1,13,1)\n",
    "outcome = model.predict(predictdata)\n"
   ]
  },
  {
   "cell_type": "code",
   "execution_count": 8,
   "metadata": {},
   "outputs": [
    {
     "name": "stdout",
     "output_type": "stream",
     "text": [
      "1\n",
      "The patient has a heart disease\n",
      "1\n",
      "The patient has a heart disease\n"
     ]
    }
   ],
   "source": [
    "result = np.argmax(outcome)\n",
    "print(result)\n",
    "if (result == 1):\n",
    "    print(\"The patient has a heart disease\")\n",
    "else:\n",
    "    print(\"The patient doesn't have a heart disease\")"
   ]
  },
  {
   "cell_type": "code",
   "execution_count": null,
   "metadata": {},
   "outputs": [],
   "source": []
  }
 ],
 "metadata": {
  "kernelspec": {
   "display_name": "Python 3",
   "language": "python",
   "name": "python3"
  },
  "language_info": {
   "codemirror_mode": {
    "name": "ipython",
    "version": 3
   },
   "file_extension": ".py",
   "mimetype": "text/x-python",
   "name": "python",
   "nbconvert_exporter": "python",
   "pygments_lexer": "ipython3",
   "version": "3.7.3"
  }
 },
 "nbformat": 4,
 "nbformat_minor": 2
}
